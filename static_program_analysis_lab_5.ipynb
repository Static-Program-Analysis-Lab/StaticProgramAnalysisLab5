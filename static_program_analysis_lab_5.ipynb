{
 "cells": [
  {
   "cell_type": "markdown",
   "source": [
    "# &#128214; Lab 5: Symbolic Execution"
   ],
   "metadata": {
    "collapsed": false
   },
   "id": "65095b40b442f9e9"
  },
  {
   "cell_type": "markdown",
   "source": [
    "## &#128221; Exercise 1: Introduction to Symbolic Execution\n",
    "\n",
    "### &#127919; Objective\n",
    "To introduce you to the concept of symbolic execution and demonstrate how to implement it in Python for program analysis.\n",
    "\n",
    "---\n",
    "\n",
    "### &#128161; Background\n",
    "\n",
    "Symbolic execution is a sophisticated program analysis technique that explores multiple execution paths in a program by treating its inputs as symbolic variables instead of concrete values. This extensive exploration is vital for various applications including bug discovery, test case generation, and security analysis.\n",
    "\n",
    "Key Elements:\n",
    "- **Symbol**: A variable used to symbolize an unknown value. During program execution, symbols replace concrete values.\n",
    "  \n",
    "- **Constraint**: A mathematical condition that is imposed on symbols. For instance, `x + 5 > 10` can be considered a constraint on the symbolic variable `x`.\n",
    "  \n",
    "- **Path Constraint**: A set of constraints that, when satisfied, make a particular execution path possible. These constraints accumulate at conditional branches like `if-else` statements in the program.\n",
    "\n",
    "- **Symbolic Variable**: A special variable that takes on symbolic values during execution, aiding in the formation of constraints and path constraints.\n",
    "\n",
    "- **Solver**: An essential component in symbolic execution that attempts to find values for symbolic variables that satisfy the path constraints. Solvers like Z3 can be used to verify if a particular path is feasible or to find specific inputs that can trigger a particular path.\n",
    "\n",
    "The exercise will guide you through the development of a simplified symbolic execution engine that can handle arithmetic operations and conditional branches in Python code. This engine will not only generate but also solve path constraints using a solver, thereby offering an in-depth understanding of how different conditions affect program behavior. The solver's role is crucial here, as it helps in validating the feasibility of paths and can even be used for tasks like automatic test case generation.\n",
    "\n",
    "---\n",
    "\n",
    "### &#10145; Task\n",
    "\n",
    "Implement a basic symbolic execution engine that will explore both branches of a given if-else statement in Python code, assuming symbolic variables for the inputs.\n",
    "\n",
    "---\n",
    "\n",
    "### &#128221; Instructions\n",
    "\n",
    "1. Use the `ast.parse` function to parse a simple Python script with an `if-else` statement into an AST.\n",
    "2. Create a `SymbolicExecutor` class that will visit each `ast.If` node and simulate the symbolic execution for both the true and false branches.\n",
    "3. Apply your `SymbolicExecutor` class to the AST obtained in step 1 using the `visit` method.\n",
    "4. Generate constraints for both the true and false branches of the `if-else` statement based on the conditions.\n",
    "5. Output the constraints for both paths, effectively demonstrating symbolic execution.\n",
    "\n",
    "==> For simplification, you may assume that the script only contains arithmetic operations (`+`, `-`, `*`, `/`) and simple `if-else` statements. Your symbolic execution engine should be able to generate constraints like `x + y > 10` or `x * 2 < y`.\n",
    "\n",
    "This exercise will deepen your understanding of symbolic execution, enabling you to appreciate its potential for advanced program analysis tasks."
   ],
   "metadata": {
    "collapsed": false
   },
   "id": "c8e372735cdd2fce"
  },
  {
   "cell_type": "markdown",
   "source": [
    "### Import the necessary library\n",
    "\n",
    "&#128161; *In the following cell, we will import the library needed for this exercise:*\n",
    "- `ast`: a module of the python standard library to transform Python code in its AST representation\n",
    "- `graphviz`: a library to create directed graphs\n"
   ],
   "metadata": {
    "collapsed": false
   },
   "id": "566a0f3bd01a963c"
  },
  {
   "cell_type": "code",
   "execution_count": null,
   "outputs": [],
   "source": [
    "import ast\n",
    "import graphviz"
   ],
   "metadata": {
    "collapsed": false
   },
   "id": "94efc3f42fe24715"
  },
  {
   "cell_type": "markdown",
   "source": [
    "Python code\n",
    "\n",
    "&#128161; The following cell contains a string that represents the Python code that will be analyzed through this exercise"
   ],
   "metadata": {
    "collapsed": false
   },
   "id": "3150d372bc5f60a8"
  },
  {
   "cell_type": "code",
   "execution_count": null,
   "outputs": [],
   "source": [
    "code = \"\"\"\n",
    "a = input()\n",
    "x = a * 4\n",
    "if x == 8:\n",
    "  print(\"OK\")\n",
    "else:\n",
    "  print(\"NOK\")\n",
    "print(\"END\")\n",
    "\"\"\""
   ],
   "metadata": {
    "collapsed": false
   },
   "id": "80c6bd34fe7101b6"
  },
  {
   "cell_type": "markdown",
   "source": [
    "&#9874; Utility function\n",
    "\n",
    "We provide a utility function called `print_dict` that can be used to print an indented representation of a `dict` object in Python."
   ],
   "metadata": {
    "collapsed": false
   },
   "id": "28923cb2f5db72d"
  },
  {
   "cell_type": "code",
   "execution_count": null,
   "outputs": [],
   "source": [
    "import json\n",
    "\n",
    "def print_dict(dictionary):\n",
    "    \"\"\"\n",
    "    Prints a dictionary in a beautified and indented format.\n",
    "\n",
    "    Parameters:\n",
    "    dictionary: The dictionary to be printed.\n",
    "\n",
    "    Returns:\n",
    "    None\n",
    "    \"\"\"\n",
    "    print(json.dumps(dictionary, indent=4))"
   ],
   "metadata": {
    "collapsed": false
   },
   "id": "64246ab5e74cd49d"
  },
  {
   "cell_type": "markdown",
   "source": [
    "### Utility Control Flow Graph class\n",
    "\n",
    "&#128161; The following cell contains a utility class to build a Control Glow Graph. \n",
    "You have to use this class to build the control flow graph."
   ],
   "metadata": {
    "collapsed": false
   },
   "id": "5d1d268cf192f9c8"
  },
  {
   "cell_type": "code",
   "execution_count": null,
   "outputs": [],
   "source": [
    "class ControlFlowGraph:\n",
    "    \"\"\"\n",
    "    A class representing a Control Flow Graph (CFG).\n",
    "\n",
    "    Attributes:\n",
    "    nodes: A list where each element is a statement.\n",
    "    edges: A list of tuples representing edges between nodes, where each tuple contains a pair of nodes.\n",
    "\n",
    "    Methods:\n",
    "    add_node:\n",
    "        Adds a new node with the given statement to the graph, returning the new node.\n",
    "    add_edge:\n",
    "        Adds an edge between the specified node indices to the graph.\n",
    "    visualize:\n",
    "        Prints a visualization of the graph to the console.\n",
    "    to_dot:\n",
    "        Returns a DOT-format string representing the graph.\n",
    "    \"\"\"\n",
    "\n",
    "    def __init__(self):\n",
    "        \"\"\"\n",
    "        Initializes a new instance of the ControlFlowGraph class, with empty nodes and edges.\n",
    "        \"\"\"\n",
    "        self.nodes = []\n",
    "        self.edges = []\n",
    "\n",
    "    def add_node(self, statement):\n",
    "        \"\"\"\n",
    "        Adds a new node with the given statement to the graph.\n",
    "\n",
    "        Parameters:\n",
    "        statement: The statement associated with the new node.\n",
    "\n",
    "        Returns:\n",
    "        The node\n",
    "        \"\"\"\n",
    "        self.nodes.append(statement)\n",
    "        return statement\n",
    "\n",
    "    def add_edge(self, node1, node2):\n",
    "        \"\"\"\n",
    "        Adds an edge between the specified nodes to the graph.\n",
    "\n",
    "        Parameters:\n",
    "        node1: The source node.\n",
    "        node2: The target node.\n",
    "        \"\"\"\n",
    "        if (node1, node2) not in self.edges:\n",
    "            self.edges.append((node1, node2))\n",
    "\n",
    "    def visualize(self):\n",
    "        \"\"\"\n",
    "        Prints a visualization of the graph to the console.\n",
    "        Each edge is printed as a line in the format 'source -> target'.\n",
    "        \"\"\"\n",
    "        for edge in self.edges:\n",
    "            source, target = edge\n",
    "            print(f'{source} -> {target}')\n",
    "\n",
    "    def to_dot(self):\n",
    "        \"\"\"\n",
    "        Returns a DOT-format string representing the graph (for vizualization purposes).\n",
    "\n",
    "        Returns:\n",
    "        str: A string in DOT format.\n",
    "        \"\"\"\n",
    "        dot_lines = ['digraph cfg {']\n",
    "        stmt_to_index = {}\n",
    "        for index, statement in enumerate(self.nodes):\n",
    "            stmt_to_index[statement] = index\n",
    "            dot_lines.append(f'    node{index} [label=\"{statement}\"];')\n",
    "        for edge in self.edges:\n",
    "            source, target = edge\n",
    "            dot_lines.append(f'    node{stmt_to_index[source]} -> node{stmt_to_index[target]};')\n",
    "        dot_lines.append('}')\n",
    "        return '\\n'.join(dot_lines)"
   ],
   "metadata": {
    "collapsed": false
   },
   "id": "5662d25a5a892ab8"
  },
  {
   "cell_type": "markdown",
   "source": [
    "### Function to create the control flow graph \n",
    "\n",
    "&#128161; In the following cell you can use the `build_cfg` function from the previous labs to get a CFG from an AST."
   ],
   "metadata": {
    "collapsed": false
   },
   "id": "7041b11fed2a1d3"
  },
  {
   "cell_type": "code",
   "execution_count": null,
   "outputs": [],
   "source": [
    "def build_cfg(node, cfg, parent=None):\n",
    "    \"\"\"\n",
    "    Recursively builds a Control Flow Graph (CFG) from an Abstract Syntax Tree (AST) node, considering various types of statements including assignment, expression, conditional, loop, and module level statements.\n",
    "\n",
    "    Parameters:\n",
    "    node: The current node in the AST.\n",
    "    cfg: An instance of ControlFlowGraph to which nodes and edges will be added.\n",
    "    parent: A list of parent nodes from which edges to the current node will be drawn. \n",
    "    \n",
    "    Returns:\n",
    "    list: A list of current nodes which will act as parents for the next level of recursion.\n",
    "    \"\"\""
   ],
   "metadata": {
    "collapsed": false
   },
   "id": "f2d3bb06335cfd75"
  },
  {
   "cell_type": "markdown",
   "source": [
    "&#128161; In the following cell, you will build the CFG and vizualize it with graphviz."
   ],
   "metadata": {
    "collapsed": false
   },
   "id": "ae7a8eff83c44902"
  },
  {
   "cell_type": "code",
   "execution_count": null,
   "outputs": [],
   "source": [],
   "metadata": {
    "collapsed": false
   },
   "id": "d5df0679bc60746e"
  },
  {
   "cell_type": "markdown",
   "source": [
    "### Utility mapping\n",
    "\n",
    "&#128161; The following cell contains a utility mapping that you can use to translate any ast operator into its equivalent."
   ],
   "metadata": {
    "collapsed": false
   },
   "id": "6399bf994871aceb"
  },
  {
   "cell_type": "code",
   "execution_count": null,
   "outputs": [],
   "source": [
    "ast_operator_map = {\n",
    "    \"Add\": \"+\",\n",
    "    \"Sub\": \"-\",\n",
    "    \"Mult\": \"*\",\n",
    "    \"Div\": \"/\",\n",
    "    \"FloorDiv\": \"//\",\n",
    "    \"Mod\": \"%\",\n",
    "    \"Pow\": \"**\",\n",
    "    \"LShift\": \"<<\",\n",
    "    \"RShift\": \">>\",\n",
    "    \"BitOr\": \"|\",\n",
    "    \"BitXor\": \"^\",\n",
    "    \"BitAnd\": \"&\",\n",
    "    \"Eq\": \"==\",\n",
    "    \"NotEq\": \"!=\",\n",
    "    \"Lt\": \"<\",\n",
    "    \"LtE\": \"<=\",\n",
    "    \"Gt\": \">\",\n",
    "    \"GtE\": \">=\",\n",
    "    \"Is\": \"is\",\n",
    "    \"IsNot\": \"is not\",\n",
    "    \"In\": \"in\",\n",
    "    \"NotIn\": \"not in\"\n",
    "}"
   ],
   "metadata": {
    "collapsed": false
   },
   "id": "353cbaacb2072a5f"
  },
  {
   "cell_type": "markdown",
   "source": [
    "&#128161; The aim of this exercise is to implement the `SymbolicExecution` class that will perform symbolic execution on a CFG.\n",
    "\n",
    "#### Instructions:\n",
    "\n",
    "1. **Class Initialization**: \n",
    "    - Implement the `__init__` method to initialize the class attributes.\n",
    "        - `cfg`: Control Flow Graph that will be analyzed.\n",
    "        - `symbolic_vars`: A dictionary to store the symbolic variables encountered during the execution.\n",
    "        - `path_constraints`: A dictionary to store the path constraints for each branch in the CFG.\n",
    "\n",
    "2. **Executing AST Nodes**: \n",
    "    - Implement the `execute` method. It should take an AST `node` and a list of `path_constraints` as parameters. The method should recursively execute the node symbolically and return a list of tuples, each containing the next node to visit and any added constraint.\n",
    "    \n",
    "3. **Analysis**: \n",
    "    - Implement the `analyze` method to perform symbolic execution on the CFG. This method should populate `path_constraints` with constraints for each branch in the CFG.\n",
    "\n",
    "#### Requirements:\n",
    "\n",
    "- Use Python's AST library for working with AST nodes.\n",
    "- Utilize the type-checking mechanism (e.g., `isinstance()`) to handle different types of AST nodes like `Assign`, `BinOp`, `Name`, `Num`, `Call`, `If`, and `Expr`.\n",
    "\n",
    "#### Tips:\n",
    "\n",
    "- Make use of helper dictionaries to map Python AST operator names to symbolic operators.\n",
    "- Utilize a worklist algorithm to traverse the CFG nodes."
   ],
   "metadata": {
    "collapsed": false
   },
   "id": "14d021bba0e420ee"
  },
  {
   "cell_type": "code",
   "execution_count": null,
   "outputs": [],
   "source": [
    "class SymbolicExecution:\n",
    "    \"\"\"\n",
    "    A class to perform symbolic execution on a Control Flow Graph (CFG) with AST nodes.\n",
    "\n",
    "    Attributes:\n",
    "        cfg (ControlFlowGraph): The CFG to be analyzed.\n",
    "    \"\"\"\n",
    "\n",
    "    def __init__(self, cfg):\n",
    "\n",
    "    def execute(self, node, path_constraints):\n",
    "        \"\"\"\n",
    "        Recursively execute an AST node symbolically.\n",
    "    \n",
    "        Parameters:\n",
    "            node (ast.AST): The AST node to execute.\n",
    "            path_constraints (list): The path constraints so far.\n",
    "        \n",
    "        Returns:\n",
    "            list: A list of tuples, each containing the next node to visit and the added constraint, if any.\n",
    "        \"\"\"\n",
    "\n",
    "    def analyze(self):\n",
    "        \"\"\"\n",
    "        Perform symbolic execution on the CFG.\n",
    "    \n",
    "        Returns:\n",
    "            dict: A dictionary containing path constraints for each branch.\n",
    "        \"\"\""
   ],
   "metadata": {
    "collapsed": false
   },
   "id": "1109c59d6530e8b1"
  },
  {
   "cell_type": "markdown",
   "source": [
    "&#128161; In the following cell, you will instantiate an object of type `SymbolicExecution` with the CFG previously constructed as a parameter and call the `analyze()` method on it.\n",
    "\n",
    "This should return the path constraints computed."
   ],
   "metadata": {
    "collapsed": false
   },
   "id": "1731a378e63ff2cd"
  },
  {
   "cell_type": "code",
   "execution_count": null,
   "outputs": [],
   "source": [],
   "metadata": {
    "collapsed": false
   },
   "id": "39bfad38960a11c1"
  },
  {
   "cell_type": "markdown",
   "source": [
    "&#128161; You can use the `pretty_print_constraints` function below to print the constraints in a more beautiful way."
   ],
   "metadata": {
    "collapsed": false
   },
   "id": "8e29af0d07a08080"
  },
  {
   "cell_type": "code",
   "execution_count": null,
   "outputs": [],
   "source": [
    "def pretty_print_constraints(constraints_dict):\n",
    "    \"\"\"\n",
    "    Beautify and print the constraints for each statement.\n",
    "\n",
    "    Parameters:\n",
    "        constraints_dict (dict): Dictionary containing the path constraints for each node.\n",
    "    \"\"\"\n",
    "    for node, path_constraints in constraints_dict.items():\n",
    "        or_clauses = []\n",
    "        for constraint_list in path_constraints:\n",
    "            and_clause = \" AND \".join(constraint_list)\n",
    "            or_clauses.append(f\"({and_clause})\")\n",
    "        final_expression = \" OR \".join(or_clauses)\n",
    "        print(f\"Node {node}: {final_expression}\")\n"
   ],
   "metadata": {
    "collapsed": false
   },
   "id": "e4bef71e5e8bd29a"
  },
  {
   "cell_type": "code",
   "execution_count": null,
   "outputs": [],
   "source": [
    "pretty_print_constraints(path_constraints)"
   ],
   "metadata": {
    "collapsed": false
   },
   "id": "8a539bee18864b1d"
  },
  {
   "cell_type": "markdown",
   "source": [
    "&#10067; Do the constraint align with what you would have done manually?\n",
    "\n",
    "Can you see some room for improvement?"
   ],
   "metadata": {
    "collapsed": false
   },
   "id": "a985a1bb25d64a57"
  },
  {
   "cell_type": "markdown",
   "source": [
    "## &#128221; Exercise 2: Solving Path Constraints using Z3 Solver\n",
    "\n",
    "### &#127919; Objective\n",
    "To extend the symbolic execution engine by incorporating the Z3 solver, which allows you to solve the path constraints and generate potential test cases.\n",
    "\n",
    "---\n",
    "\n",
    "### &#128161; Background\n",
    "\n",
    "After symbolic execution, you obtain a set of path constraints representing the conditions that must be met for each execution path. \n",
    "To find concrete values that satisfy these constraints, you can use a constraint solver. \n",
    "The Z3 solver is highly efficient for this purpose and is commonly used in program analysis tasks.\n",
    "\n",
    "---\n",
    "\n",
    "### &#10145; Task\n",
    "\n",
    "Implement the constraint-solving logic to transform the symbolic path constraints into solvable equations using the Z3 solver. The aim is to extract meaningful test cases from these solved constraints.\n",
    "\n",
    "---\n",
    "\n",
    "### &#128221; Instructions\n",
    "\n",
    "1. **Import Z3 Modules**: Import essential Z3 modules like `Solver, And, Or, Int, Not, sat`.\n",
    "\n",
    "2. **Implement `to_z3_expr` Function**: \n",
    "    - This function will translate a constraint string into a Z3 expression.\n",
    "    - Take a constraint string and a dictionary of Z3 variables as parameters.\n",
    "    - Return the Z3 expression.\n",
    "\n",
    "3. **Implement `solve_constraints` Function**: \n",
    "    - This function will take a dictionary of path constraints and a dictionary of symbolic variables as parameters.\n",
    "    - Utilize the Z3 solver to find a model that satisfies these constraints.\n",
    "    - Store the satisfying model for each node in a dictionary and return it.\n",
    "\n",
    "4. **Constraints to Z3 Expressions**: \n",
    "    - Translate each symbolic constraint to a Z3 expression using `to_z3_expr`.\n",
    "    - Combine multiple constraints using logical AND (`And`) and OR (`Or`) operators from Z3.\n",
    "\n",
    "5. **Solver Operations**: \n",
    "    - Push and pop the solver context appropriately to avoid conflicts between different sets of constraints.\n",
    "\n",
    "6. **Check and Store Solutions**: \n",
    "    - For each node, if a satisfying set of input values exists (`solver.check() == sat`), store the Z3 model in a dictionary.\n",
    "\n",
    "7. **Return Results**: \n",
    "    - Finally, return the dictionary containing the Z3 solutions for each node.\n",
    "\n",
    "By the end of this exercise, you should be able to run your symbolic execution engine on sample code, solve the resulting path constraints, and generate possible test cases based on the Z3 solutions.\n",
    "\n",
    "Install Z3  if you haven't\n",
    "```python\n",
    "!pip3 install z3-solver\n",
    "```"
   ],
   "metadata": {
    "collapsed": false
   },
   "id": "919d6c25fed22ee8"
  },
  {
   "cell_type": "markdown",
   "source": [
    "### Import the necessary library\n",
    "\n",
    "&#128161; *In the following cell, we will import the library needed for this exercise:*"
   ],
   "metadata": {
    "collapsed": false
   },
   "id": "44767fdede485aa8"
  },
  {
   "cell_type": "code",
   "execution_count": null,
   "outputs": [],
   "source": [
    "from z3 import Solver, And, Or, Int, Not, sat"
   ],
   "metadata": {
    "collapsed": false
   },
   "id": "a2d68cc60e0ed950"
  },
  {
   "cell_type": "markdown",
   "source": [
    "&#128161; In the following cell, implement the `to_z3_expr` and the `solve_constraints` functions."
   ],
   "metadata": {
    "collapsed": false
   },
   "id": "aa563a08034b62a0"
  },
  {
   "cell_type": "code",
   "execution_count": 1,
   "outputs": [],
   "source": [
    "def to_z3_expr(constraint, vars_dict):\n",
    "    \"\"\"\n",
    "    Translate a constraint string into a Z3 expression.\n",
    "\n",
    "    Parameters:\n",
    "        constraint (str): The constraint string.\n",
    "        vars_dict (dict): Dictionary containing Z3 variables.\n",
    "\n",
    "    Returns:\n",
    "        z3.ExprRef: The Z3 expression.\n",
    "    \"\"\"\n",
    "\n",
    "def solve_constraints(constraints_dict, symbolic_vars):\n",
    "    \"\"\"\n",
    "    Solve the constraints for each statement using Z3.\n",
    "\n",
    "    Parameters:\n",
    "        constraints_dict (dict): The dictionary containing path constraints for each statement.\n",
    "        symbolic_vars (dict): Dictionary containing symbolic variables and their values.\n",
    "        \n",
    "    Returns:\n",
    "        dict: A dictionary containing the Z3 solutions for each node.\n",
    "    \"\"\""
   ],
   "metadata": {
    "collapsed": false,
    "ExecuteTime": {
     "end_time": "2023-12-07T14:40:51.680593Z",
     "start_time": "2023-12-07T14:40:51.646828Z"
    }
   },
   "id": "3b8e4a4c9e352c70"
  },
  {
   "cell_type": "markdown",
   "source": [
    "#### Test your code\n",
    "\n",
    "&#128161; In the following cell, you will call the `solve_constraints` with the `path_constraints` variable and the `symbolic_execution.symbolic_vars` field."
   ],
   "metadata": {
    "collapsed": false
   },
   "id": "ebded07aaab5ae74"
  },
  {
   "cell_type": "code",
   "execution_count": null,
   "outputs": [],
   "source": [],
   "metadata": {
    "collapsed": false
   },
   "id": "f0caa3b2e76a6c4f"
  },
  {
   "cell_type": "markdown",
   "source": [
    "&#128161; Print the solutions"
   ],
   "metadata": {
    "collapsed": false
   },
   "id": "f3c80dc186d3008f"
  },
  {
   "cell_type": "code",
   "execution_count": null,
   "outputs": [],
   "source": [],
   "metadata": {
    "collapsed": false
   },
   "id": "9fbe4086120f980"
  },
  {
   "cell_type": "markdown",
   "source": [],
   "metadata": {
    "collapsed": false
   },
   "id": "56c37cc27be8b5c8"
  },
  {
   "cell_type": "markdown",
   "source": [
    "&#10067; Did the solver find any solution?\n",
    "\n",
    "If no, why?\n",
    "\n",
    "If yes, do they match your expectations? "
   ],
   "metadata": {
    "collapsed": false
   },
   "id": "a1171f2d8e043e7"
  }
 ],
 "metadata": {
  "kernelspec": {
   "display_name": "Python 3",
   "language": "python",
   "name": "python3"
  },
  "language_info": {
   "codemirror_mode": {
    "name": "ipython",
    "version": 2
   },
   "file_extension": ".py",
   "mimetype": "text/x-python",
   "name": "python",
   "nbconvert_exporter": "python",
   "pygments_lexer": "ipython2",
   "version": "2.7.6"
  }
 },
 "nbformat": 4,
 "nbformat_minor": 5
}
